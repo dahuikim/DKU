{
  "cells": [
    {
      "cell_type": "code",
      "execution_count": null,
      "metadata": {
        "id": "avY0bfh61pMM"
      },
      "outputs": [],
      "source": [
        "import pandas as pd"
      ]
    },
    {
      "cell_type": "code",
      "execution_count": null,
      "metadata": {
        "colab": {
          "base_uri": "https://localhost:8080/"
        },
        "id": "NLAZOlhF2pU3",
        "outputId": "a86e593d-1dad-47a3-c7a9-85b32f246e95"
      },
      "outputs": [
        {
          "output_type": "stream",
          "name": "stdout",
          "text": [
            "<class 'pandas.core.frame.DataFrame'>\n",
            "RangeIndex: 828 entries, 0 to 827\n",
            "Data columns (total 49 columns):\n",
            " #   Column                     Non-Null Count  Dtype  \n",
            "---  ------                     --------------  -----  \n",
            " 0   Drug                       828 non-null    object \n",
            " 1   Label                      828 non-null    object \n",
            " 2   MolecularWeight            828 non-null    float64\n",
            " 3   XLogP                      828 non-null    float64\n",
            " 4   HydrogenBondDonorCount     828 non-null    int64  \n",
            " 5   HydrogenBondAcceptorCount  828 non-null    int64  \n",
            " 6   PolarSurfaceArea           828 non-null    float64\n",
            " 7   FormalCharge               828 non-null    int64  \n",
            " 8   NumRings                   827 non-null    float64\n",
            " 9   RotatableBondCount         828 non-null    int64  \n",
            " 10  Refractivity               828 non-null    float64\n",
            " 11  LogpSolubility             807 non-null    float64\n",
            " 12  Ro5                        827 non-null    float64\n",
            " 13  Ghose                      827 non-null    float64\n",
            " 14  Veber                      827 non-null    float64\n",
            " 15  ExAC_loss_frequency        797 non-null    float64\n",
            " 16  target_betweenness         828 non-null    float64\n",
            " 17  target_degree              828 non-null    int64  \n",
            " 18  number_targets             828 non-null    int64  \n",
            " 19  Blood                      828 non-null    float64\n",
            " 20  Skin                       828 non-null    float64\n",
            " 21  Brain                      828 non-null    float64\n",
            " 22  Testis                     828 non-null    float64\n",
            " 23  Adipose Tissue             828 non-null    float64\n",
            " 24  Muscle                     828 non-null    float64\n",
            " 25  Nerve                      828 non-null    float64\n",
            " 26  Blood Vessel               828 non-null    float64\n",
            " 27  Heart                      828 non-null    float64\n",
            " 28  Lung                       828 non-null    float64\n",
            " 29  Esophagus                  828 non-null    float64\n",
            " 30  Kidney                     828 non-null    float64\n",
            " 31  Thyroid                    828 non-null    float64\n",
            " 32  Pituitary                  828 non-null    float64\n",
            " 33  Uterus                     828 non-null    float64\n",
            " 34  Pancreas                   828 non-null    float64\n",
            " 35  Vagina                     828 non-null    float64\n",
            " 36  Stomach                    828 non-null    float64\n",
            " 37  Adrenal Gland              828 non-null    float64\n",
            " 38  Colon                      828 non-null    float64\n",
            " 39  Prostate                   828 non-null    float64\n",
            " 40  Spleen                     828 non-null    float64\n",
            " 41  Liver                      828 non-null    float64\n",
            " 42  Fallopian Tube             828 non-null    float64\n",
            " 43  Ovary                      828 non-null    float64\n",
            " 44  Breast                     828 non-null    float64\n",
            " 45  Bladder                    828 non-null    float64\n",
            " 46  Cervix Uteri               828 non-null    float64\n",
            " 47  Small Intestine            828 non-null    float64\n",
            " 48  Salivary Gland             828 non-null    float64\n",
            "dtypes: float64(41), int64(6), object(2)\n",
            "memory usage: 317.1+ KB\n"
          ]
        }
      ],
      "source": [
        "# 데이터 불러오기\n",
        "dataset = pd.read_csv(\"PrOCTOR_sample_data_all.csv\")\n",
        "# 데이터 확인\n",
        "dataset.head()\n",
        "dataset.info()"
      ]
    },
    {
      "cell_type": "code",
      "execution_count": null,
      "metadata": {
        "colab": {
          "base_uri": "https://localhost:8080/"
        },
        "id": "Wvj89rFe28D1",
        "outputId": "efb62c67-415b-4ce6-a732-2409b1de4bde"
      },
      "outputs": [
        {
          "output_type": "execute_result",
          "data": {
            "text/plain": [
              "Drug                          0\n",
              "Label                         0\n",
              "MolecularWeight               0\n",
              "XLogP                         0\n",
              "HydrogenBondDonorCount        0\n",
              "HydrogenBondAcceptorCount     0\n",
              "PolarSurfaceArea              0\n",
              "FormalCharge                  0\n",
              "NumRings                      1\n",
              "RotatableBondCount            0\n",
              "Refractivity                  0\n",
              "LogpSolubility               21\n",
              "Ro5                           1\n",
              "Ghose                         1\n",
              "Veber                         1\n",
              "ExAC_loss_frequency          31\n",
              "target_betweenness            0\n",
              "target_degree                 0\n",
              "number_targets                0\n",
              "Blood                         0\n",
              "Skin                          0\n",
              "Brain                         0\n",
              "Testis                        0\n",
              "Adipose Tissue                0\n",
              "Muscle                        0\n",
              "Nerve                         0\n",
              "Blood Vessel                  0\n",
              "Heart                         0\n",
              "Lung                          0\n",
              "Esophagus                     0\n",
              "Kidney                        0\n",
              "Thyroid                       0\n",
              "Pituitary                     0\n",
              "Uterus                        0\n",
              "Pancreas                      0\n",
              "Vagina                        0\n",
              "Stomach                       0\n",
              "Adrenal Gland                 0\n",
              "Colon                         0\n",
              "Prostate                      0\n",
              "Spleen                        0\n",
              "Liver                         0\n",
              "Fallopian Tube                0\n",
              "Ovary                         0\n",
              "Breast                        0\n",
              "Bladder                       0\n",
              "Cervix Uteri                  0\n",
              "Small Intestine               0\n",
              "Salivary Gland                0\n",
              "dtype: int64"
            ]
          },
          "metadata": {},
          "execution_count": 3
        }
      ],
      "source": [
        "# 결측값 확인\n",
        "dataset.isnull().sum()\n",
        "# NumRings 1개, LogpSolubility 21개, Ro5 1개, Ghose 1개,Veber 1개, ExAC_loss_frequency 31개의 결측치 존재\n"
      ]
    },
    {
      "cell_type": "code",
      "execution_count": null,
      "metadata": {
        "id": "scumjfLw3cCV"
      },
      "outputs": [],
      "source": [
        "# 1. 중앙값으로 결측치 대체\n",
        "dataset['NumRings'] = dataset['NumRings'].fillna(dataset.NumRings.median())\n",
        "dataset['LogpSolubility'] = dataset['LogpSolubility'].fillna(dataset.LogpSolubility.median())\n",
        "dataset['Ro5'] = dataset['Ro5'].fillna(dataset.Ro5.median())\n",
        "dataset['Ghose'] = dataset['Ghose'].fillna(dataset.Ghose.median())\n",
        "dataset['Veber'] = dataset['Veber'].fillna(dataset.Veber.median())\n",
        "dataset['ExAC_loss_frequency'] = dataset['ExAC_loss_frequency'].fillna(dataset.ExAC_loss_frequency.median())"
      ]
    },
    {
      "cell_type": "code",
      "execution_count": null,
      "metadata": {
        "colab": {
          "base_uri": "https://localhost:8080/"
        },
        "id": "M8HVDN7N5ABX",
        "outputId": "c5e6d8ce-4c80-4c8e-c07b-241dfba64511"
      },
      "outputs": [
        {
          "output_type": "execute_result",
          "data": {
            "text/plain": [
              "Drug                         0\n",
              "Label                        0\n",
              "MolecularWeight              0\n",
              "XLogP                        0\n",
              "HydrogenBondDonorCount       0\n",
              "HydrogenBondAcceptorCount    0\n",
              "PolarSurfaceArea             0\n",
              "FormalCharge                 0\n",
              "NumRings                     0\n",
              "RotatableBondCount           0\n",
              "Refractivity                 0\n",
              "LogpSolubility               0\n",
              "Ro5                          0\n",
              "Ghose                        0\n",
              "Veber                        0\n",
              "ExAC_loss_frequency          0\n",
              "target_betweenness           0\n",
              "target_degree                0\n",
              "number_targets               0\n",
              "Blood                        0\n",
              "Skin                         0\n",
              "Brain                        0\n",
              "Testis                       0\n",
              "Adipose Tissue               0\n",
              "Muscle                       0\n",
              "Nerve                        0\n",
              "Blood Vessel                 0\n",
              "Heart                        0\n",
              "Lung                         0\n",
              "Esophagus                    0\n",
              "Kidney                       0\n",
              "Thyroid                      0\n",
              "Pituitary                    0\n",
              "Uterus                       0\n",
              "Pancreas                     0\n",
              "Vagina                       0\n",
              "Stomach                      0\n",
              "Adrenal Gland                0\n",
              "Colon                        0\n",
              "Prostate                     0\n",
              "Spleen                       0\n",
              "Liver                        0\n",
              "Fallopian Tube               0\n",
              "Ovary                        0\n",
              "Breast                       0\n",
              "Bladder                      0\n",
              "Cervix Uteri                 0\n",
              "Small Intestine              0\n",
              "Salivary Gland               0\n",
              "dtype: int64"
            ]
          },
          "metadata": {},
          "execution_count": 5
        }
      ],
      "source": [
        "# 결측치가 대체되었는지 확인\n",
        "dataset.isnull().sum()"
      ]
    },
    {
      "cell_type": "code",
      "execution_count": null,
      "metadata": {
        "id": "8GiiXBVx5wBo"
      },
      "outputs": [],
      "source": [
        "import numpy as np\n",
        "\n",
        "from sklearn.model_selection import train_test_split\n",
        "from sklearn.linear_model import SGDClassifier"
      ]
    },
    {
      "cell_type": "code",
      "execution_count": null,
      "metadata": {
        "id": "FU04yGhm692p"
      },
      "outputs": [],
      "source": [
        "# 모델 선택\n",
        "model = SGDClassifier(loss='log',\n",
        "                      max_iter=5000,  #최대반복수\n",
        "                      tol=1e-5,       # max_iter에 도달하지 않더라도 작업 중단\n",
        "                      random_state=32190403) # 실행할 때마다 바뀌지 않게\n"
      ]
    },
    {
      "cell_type": "code",
      "execution_count": null,
      "metadata": {
        "colab": {
          "base_uri": "https://localhost:8080/",
          "height": 317
        },
        "id": "Gp-1wX25KAty",
        "outputId": "3a956d89-3218-47a6-9dd8-4a42e35b032e"
      },
      "outputs": [
        {
          "output_type": "execute_result",
          "data": {
            "text/plain": [
              "             Drug   Label  MolecularWeight     XLogP  HydrogenBondDonorCount  \\\n",
              "0     Abiraterone  passed       349.240565  3.965293                       1   \n",
              "1      Acebutolol  passed       336.204907  1.534682                       3   \n",
              "2   Acenocoumarol  passed       353.089937  2.684692                       1   \n",
              "3    Acepromazine  passed       326.145284  3.488603                       0   \n",
              "4  Aceprometazine  passed       326.145284  3.845218                       0   \n",
              "\n",
              "   HydrogenBondAcceptorCount  PolarSurfaceArea  FormalCharge  NumRings  \\\n",
              "0                          2             33.12             0       5.0   \n",
              "1                          5             87.66             0       1.0   \n",
              "2                          5            109.42             0       3.0   \n",
              "3                          3             23.55             0       3.0   \n",
              "4                          3             23.55             0       3.0   \n",
              "\n",
              "   RotatableBondCount  ...  Prostate    Spleen     Liver  Fallopian Tube  \\\n",
              "0                   1  ...  0.804379  0.734742  1.722980        0.994414   \n",
              "1                  10  ...  4.420117  6.518067  2.618737        2.319843   \n",
              "2                   5  ...  0.282973  0.368951  0.988317        0.426425   \n",
              "3                   5  ...  1.126801  7.962256  7.432229        3.192496   \n",
              "4                   4  ...  1.168346  0.453772  0.050176        2.241176   \n",
              "\n",
              "      Ovary     Breast   Bladder  Cervix Uteri  Small Intestine  \\\n",
              "0  0.943392   0.736495  0.780652      0.809155         0.377117   \n",
              "1  0.295605  10.000000  2.251212      3.500741         2.735411   \n",
              "2  0.430046   0.356781  0.478249      0.500222         0.492640   \n",
              "3  1.602348   1.393756  0.529358      0.387122         0.974304   \n",
              "4  1.707206   2.094832  2.018864      2.547429         1.588867   \n",
              "\n",
              "   Salivary Gland  \n",
              "0        0.300038  \n",
              "1        5.831739  \n",
              "2        0.357384  \n",
              "3        6.041281  \n",
              "4        0.826448  \n",
              "\n",
              "[5 rows x 49 columns]"
            ],
            "text/html": [
              "\n",
              "  <div id=\"df-078a4e62-12fe-4241-97e2-6f8373a2148e\">\n",
              "    <div class=\"colab-df-container\">\n",
              "      <div>\n",
              "<style scoped>\n",
              "    .dataframe tbody tr th:only-of-type {\n",
              "        vertical-align: middle;\n",
              "    }\n",
              "\n",
              "    .dataframe tbody tr th {\n",
              "        vertical-align: top;\n",
              "    }\n",
              "\n",
              "    .dataframe thead th {\n",
              "        text-align: right;\n",
              "    }\n",
              "</style>\n",
              "<table border=\"1\" class=\"dataframe\">\n",
              "  <thead>\n",
              "    <tr style=\"text-align: right;\">\n",
              "      <th></th>\n",
              "      <th>Drug</th>\n",
              "      <th>Label</th>\n",
              "      <th>MolecularWeight</th>\n",
              "      <th>XLogP</th>\n",
              "      <th>HydrogenBondDonorCount</th>\n",
              "      <th>HydrogenBondAcceptorCount</th>\n",
              "      <th>PolarSurfaceArea</th>\n",
              "      <th>FormalCharge</th>\n",
              "      <th>NumRings</th>\n",
              "      <th>RotatableBondCount</th>\n",
              "      <th>...</th>\n",
              "      <th>Prostate</th>\n",
              "      <th>Spleen</th>\n",
              "      <th>Liver</th>\n",
              "      <th>Fallopian Tube</th>\n",
              "      <th>Ovary</th>\n",
              "      <th>Breast</th>\n",
              "      <th>Bladder</th>\n",
              "      <th>Cervix Uteri</th>\n",
              "      <th>Small Intestine</th>\n",
              "      <th>Salivary Gland</th>\n",
              "    </tr>\n",
              "  </thead>\n",
              "  <tbody>\n",
              "    <tr>\n",
              "      <th>0</th>\n",
              "      <td>Abiraterone</td>\n",
              "      <td>passed</td>\n",
              "      <td>349.240565</td>\n",
              "      <td>3.965293</td>\n",
              "      <td>1</td>\n",
              "      <td>2</td>\n",
              "      <td>33.12</td>\n",
              "      <td>0</td>\n",
              "      <td>5.0</td>\n",
              "      <td>1</td>\n",
              "      <td>...</td>\n",
              "      <td>0.804379</td>\n",
              "      <td>0.734742</td>\n",
              "      <td>1.722980</td>\n",
              "      <td>0.994414</td>\n",
              "      <td>0.943392</td>\n",
              "      <td>0.736495</td>\n",
              "      <td>0.780652</td>\n",
              "      <td>0.809155</td>\n",
              "      <td>0.377117</td>\n",
              "      <td>0.300038</td>\n",
              "    </tr>\n",
              "    <tr>\n",
              "      <th>1</th>\n",
              "      <td>Acebutolol</td>\n",
              "      <td>passed</td>\n",
              "      <td>336.204907</td>\n",
              "      <td>1.534682</td>\n",
              "      <td>3</td>\n",
              "      <td>5</td>\n",
              "      <td>87.66</td>\n",
              "      <td>0</td>\n",
              "      <td>1.0</td>\n",
              "      <td>10</td>\n",
              "      <td>...</td>\n",
              "      <td>4.420117</td>\n",
              "      <td>6.518067</td>\n",
              "      <td>2.618737</td>\n",
              "      <td>2.319843</td>\n",
              "      <td>0.295605</td>\n",
              "      <td>10.000000</td>\n",
              "      <td>2.251212</td>\n",
              "      <td>3.500741</td>\n",
              "      <td>2.735411</td>\n",
              "      <td>5.831739</td>\n",
              "    </tr>\n",
              "    <tr>\n",
              "      <th>2</th>\n",
              "      <td>Acenocoumarol</td>\n",
              "      <td>passed</td>\n",
              "      <td>353.089937</td>\n",
              "      <td>2.684692</td>\n",
              "      <td>1</td>\n",
              "      <td>5</td>\n",
              "      <td>109.42</td>\n",
              "      <td>0</td>\n",
              "      <td>3.0</td>\n",
              "      <td>5</td>\n",
              "      <td>...</td>\n",
              "      <td>0.282973</td>\n",
              "      <td>0.368951</td>\n",
              "      <td>0.988317</td>\n",
              "      <td>0.426425</td>\n",
              "      <td>0.430046</td>\n",
              "      <td>0.356781</td>\n",
              "      <td>0.478249</td>\n",
              "      <td>0.500222</td>\n",
              "      <td>0.492640</td>\n",
              "      <td>0.357384</td>\n",
              "    </tr>\n",
              "    <tr>\n",
              "      <th>3</th>\n",
              "      <td>Acepromazine</td>\n",
              "      <td>passed</td>\n",
              "      <td>326.145284</td>\n",
              "      <td>3.488603</td>\n",
              "      <td>0</td>\n",
              "      <td>3</td>\n",
              "      <td>23.55</td>\n",
              "      <td>0</td>\n",
              "      <td>3.0</td>\n",
              "      <td>5</td>\n",
              "      <td>...</td>\n",
              "      <td>1.126801</td>\n",
              "      <td>7.962256</td>\n",
              "      <td>7.432229</td>\n",
              "      <td>3.192496</td>\n",
              "      <td>1.602348</td>\n",
              "      <td>1.393756</td>\n",
              "      <td>0.529358</td>\n",
              "      <td>0.387122</td>\n",
              "      <td>0.974304</td>\n",
              "      <td>6.041281</td>\n",
              "    </tr>\n",
              "    <tr>\n",
              "      <th>4</th>\n",
              "      <td>Aceprometazine</td>\n",
              "      <td>passed</td>\n",
              "      <td>326.145284</td>\n",
              "      <td>3.845218</td>\n",
              "      <td>0</td>\n",
              "      <td>3</td>\n",
              "      <td>23.55</td>\n",
              "      <td>0</td>\n",
              "      <td>3.0</td>\n",
              "      <td>4</td>\n",
              "      <td>...</td>\n",
              "      <td>1.168346</td>\n",
              "      <td>0.453772</td>\n",
              "      <td>0.050176</td>\n",
              "      <td>2.241176</td>\n",
              "      <td>1.707206</td>\n",
              "      <td>2.094832</td>\n",
              "      <td>2.018864</td>\n",
              "      <td>2.547429</td>\n",
              "      <td>1.588867</td>\n",
              "      <td>0.826448</td>\n",
              "    </tr>\n",
              "  </tbody>\n",
              "</table>\n",
              "<p>5 rows × 49 columns</p>\n",
              "</div>\n",
              "      <button class=\"colab-df-convert\" onclick=\"convertToInteractive('df-078a4e62-12fe-4241-97e2-6f8373a2148e')\"\n",
              "              title=\"Convert this dataframe to an interactive table.\"\n",
              "              style=\"display:none;\">\n",
              "        \n",
              "  <svg xmlns=\"http://www.w3.org/2000/svg\" height=\"24px\"viewBox=\"0 0 24 24\"\n",
              "       width=\"24px\">\n",
              "    <path d=\"M0 0h24v24H0V0z\" fill=\"none\"/>\n",
              "    <path d=\"M18.56 5.44l.94 2.06.94-2.06 2.06-.94-2.06-.94-.94-2.06-.94 2.06-2.06.94zm-11 1L8.5 8.5l.94-2.06 2.06-.94-2.06-.94L8.5 2.5l-.94 2.06-2.06.94zm10 10l.94 2.06.94-2.06 2.06-.94-2.06-.94-.94-2.06-.94 2.06-2.06.94z\"/><path d=\"M17.41 7.96l-1.37-1.37c-.4-.4-.92-.59-1.43-.59-.52 0-1.04.2-1.43.59L10.3 9.45l-7.72 7.72c-.78.78-.78 2.05 0 2.83L4 21.41c.39.39.9.59 1.41.59.51 0 1.02-.2 1.41-.59l7.78-7.78 2.81-2.81c.8-.78.8-2.07 0-2.86zM5.41 20L4 18.59l7.72-7.72 1.47 1.35L5.41 20z\"/>\n",
              "  </svg>\n",
              "      </button>\n",
              "      \n",
              "  <style>\n",
              "    .colab-df-container {\n",
              "      display:flex;\n",
              "      flex-wrap:wrap;\n",
              "      gap: 12px;\n",
              "    }\n",
              "\n",
              "    .colab-df-convert {\n",
              "      background-color: #E8F0FE;\n",
              "      border: none;\n",
              "      border-radius: 50%;\n",
              "      cursor: pointer;\n",
              "      display: none;\n",
              "      fill: #1967D2;\n",
              "      height: 32px;\n",
              "      padding: 0 0 0 0;\n",
              "      width: 32px;\n",
              "    }\n",
              "\n",
              "    .colab-df-convert:hover {\n",
              "      background-color: #E2EBFA;\n",
              "      box-shadow: 0px 1px 2px rgba(60, 64, 67, 0.3), 0px 1px 3px 1px rgba(60, 64, 67, 0.15);\n",
              "      fill: #174EA6;\n",
              "    }\n",
              "\n",
              "    [theme=dark] .colab-df-convert {\n",
              "      background-color: #3B4455;\n",
              "      fill: #D2E3FC;\n",
              "    }\n",
              "\n",
              "    [theme=dark] .colab-df-convert:hover {\n",
              "      background-color: #434B5C;\n",
              "      box-shadow: 0px 1px 3px 1px rgba(0, 0, 0, 0.15);\n",
              "      filter: drop-shadow(0px 1px 2px rgba(0, 0, 0, 0.3));\n",
              "      fill: #FFFFFF;\n",
              "    }\n",
              "  </style>\n",
              "\n",
              "      <script>\n",
              "        const buttonEl =\n",
              "          document.querySelector('#df-078a4e62-12fe-4241-97e2-6f8373a2148e button.colab-df-convert');\n",
              "        buttonEl.style.display =\n",
              "          google.colab.kernel.accessAllowed ? 'block' : 'none';\n",
              "\n",
              "        async function convertToInteractive(key) {\n",
              "          const element = document.querySelector('#df-078a4e62-12fe-4241-97e2-6f8373a2148e');\n",
              "          const dataTable =\n",
              "            await google.colab.kernel.invokeFunction('convertToInteractive',\n",
              "                                                     [key], {});\n",
              "          if (!dataTable) return;\n",
              "\n",
              "          const docLinkHtml = 'Like what you see? Visit the ' +\n",
              "            '<a target=\"_blank\" href=https://colab.research.google.com/notebooks/data_table.ipynb>data table notebook</a>'\n",
              "            + ' to learn more about interactive tables.';\n",
              "          element.innerHTML = '';\n",
              "          dataTable['output_type'] = 'display_data';\n",
              "          await google.colab.output.renderOutput(dataTable, element);\n",
              "          const docLink = document.createElement('div');\n",
              "          docLink.innerHTML = docLinkHtml;\n",
              "          element.appendChild(docLink);\n",
              "        }\n",
              "      </script>\n",
              "    </div>\n",
              "  </div>\n",
              "  "
            ]
          },
          "metadata": {},
          "execution_count": 8
        }
      ],
      "source": [
        "dataset.head()"
      ]
    },
    {
      "cell_type": "code",
      "execution_count": null,
      "metadata": {
        "id": "ocQwjYU17MXa"
      },
      "outputs": [],
      "source": [
        "x_data= dataset.drop(['Drug','Label'],axis='columns')\n",
        "x_data= x_data.iloc[:,:-1]\n",
        "\n",
        "t_data=dataset['Label']"
      ]
    },
    {
      "cell_type": "code",
      "execution_count": null,
      "metadata": {
        "id": "XuSmoUQd_2wn"
      },
      "outputs": [],
      "source": [
        "x_data= np.array(x_data)\n"
      ]
    },
    {
      "cell_type": "code",
      "execution_count": null,
      "metadata": {
        "id": "am_WDY3fsE5O"
      },
      "outputs": [],
      "source": [
        "# 5-fold cross validation\n",
        "\n",
        "from sklearn.model_selection import KFold\n",
        "from sklearn.metrics import accuracy_score\n",
        "\n",
        "kf= KFold(n_splits=5, shuffle=True, random_state= 32190403)\n",
        "for train_index, test_index in kf.split(x_data):\n",
        "  x_train, x_test = x_data[train_index], x_data[test_index]\n",
        "  y_train, y_test = t_data[train_index], t_data[test_index]"
      ]
    },
    {
      "cell_type": "code",
      "execution_count": null,
      "metadata": {
        "colab": {
          "base_uri": "https://localhost:8080/"
        },
        "id": "oIIMguFXAdKP",
        "outputId": "350621f2-9f90-4aaa-bc4c-48cbd29c6f29"
      },
      "outputs": [
        {
          "output_type": "stream",
          "name": "stdout",
          "text": [
            "각 분할의 정확도 기록:  [0.9036144578313253, 0.18674698795180722, 0.2289156626506024, 0.15151515151515152, 0.8909090909090909]\n",
            "평균 정확도:  0.47234027017159547\n"
          ]
        }
      ],
      "source": [
        "# accuracy\n",
        "accuracy_history=[]\n",
        "for train_index, test_index in kf.split(x_data):\n",
        "  x_train,x_test= x_data[train_index], x_data[test_index]\n",
        "  y_train,y_test= t_data[train_index], t_data[test_index]\n",
        "  # 모델선택\n",
        "  model= SGDClassifier(loss='log',max_iter=5000,tol=1e-5,random_state=32190403)\n",
        "  model.fit(x_train,y_train)\n",
        "\n",
        "  y_pred=model.predict(x_test)\n",
        "  accuracy_history.append(accuracy_score(y_pred,y_test))\n",
        "\n",
        "print(\"각 분할의 정확도 기록: \",accuracy_history)\n",
        "print(\"평균 정확도: \",np.mean(accuracy_history))"
      ]
    },
    {
      "cell_type": "code",
      "execution_count": null,
      "metadata": {
        "colab": {
          "base_uri": "https://localhost:8080/"
        },
        "id": "m1SCxnBNwO4J",
        "outputId": "65601823-1442-45e3-b601-30f1a760d450"
      },
      "outputs": [
        {
          "output_type": "stream",
          "name": "stdout",
          "text": [
            "각 분할의 f1 기록:  [0.9493670886075949, 0.18181818181818182, 0.30434782608695654, 0.18604651162790697, 0.9423076923076923]\n",
            "평균 f1:  0.5127774600896664\n"
          ]
        }
      ],
      "source": [
        "# f1 score\n",
        "from sklearn.metrics import f1_score\n",
        "accuracy_history=[]\n",
        "for train_index, test_index in kf.split(x_data):\n",
        "  x_train,x_test= x_data[train_index], x_data[test_index]\n",
        "  y_train,y_test= t_data[train_index], t_data[test_index]\n",
        "  # 모델선택\n",
        "  model= SGDClassifier(loss='log',max_iter=5000,tol=1e-5,random_state=32190403)\n",
        "  model.fit(x_train,y_train)\n",
        "  y_pred=model.predict(x_test)\n",
        "  accuracy_history.append(f1_score(y_pred,y_test, pos_label='passed'))\n",
        "\n",
        "print(\"각 분할의 f1 기록: \",accuracy_history)\n",
        "print(\"평균 f1: \",np.mean(accuracy_history))\n"
      ]
    },
    {
      "cell_type": "code",
      "source": [
        "# AUC score\n",
        "from sklearn.metrics import roc_auc_score\n",
        "accuracy_history=[]\n",
        "for train_index, test_index in kf.split(x_data):\n",
        "  x_train,x_test= x_data[train_index], x_data[test_index]\n",
        "  y_train,y_test= t_data[train_index], t_data[test_index]\n",
        "  # 모델선택\n",
        "  model= SGDClassifier(loss='log',max_iter=5000,tol=1e-5,random_state=32190403)\n",
        "  model.fit(x_train,y_train)\n",
        "  y_pred=model.predict(x_test)\n",
        "  pred_proba =model.predict_proba(x_test)[:, 1]\n",
        "  accuracy_history.append(roc_auc_score(y_test,pred_proba))\n",
        "\n",
        "print('ROC AUC Score: ',accuracy_history,)\n"
      ],
      "metadata": {
        "colab": {
          "base_uri": "https://localhost:8080/"
        },
        "id": "reg8ThuONOyW",
        "outputId": "15210953-2679-4d89-b92b-b701054c63aa"
      },
      "execution_count": null,
      "outputs": [
        {
          "output_type": "stream",
          "name": "stdout",
          "text": [
            "ROC AUC Score:  [0.5, 0.5209238057639163, 0.5897435897435898, 0.5016129032258064, 0.5]\n"
          ]
        }
      ]
    },
    {
      "cell_type": "code",
      "source": [
        "# AUPRC score\n",
        "import sklearn.metrics\n",
        "accuracy_history=[]\n",
        "for train_index, test_index in kf.split(x_data):\n",
        "  x_train,x_test= x_data[train_index], x_data[test_index]\n",
        "  y_train,y_test= t_data[train_index], t_data[test_index]\n",
        "  # 모델선택\n",
        "  model= SGDClassifier(loss='log',max_iter=5000,tol=1e-5,random_state=32190403)\n",
        "  model.fit(x_train,y_train)\n",
        "  y_pred=model.predict(x_test)\n",
        "  pred_proba =model.predict_proba(x_test)[:, 1]\n",
        "  accuracy_history.append(sklearn.metrics.average_precision_score(y_test,pred_proba,pos_label='passed'))\n",
        "\n",
        "print('AUPRC score: ',accuracy_history,)\n",
        "\n",
        "\n",
        "# auprc = sklearn.metrics.average_precision_score(true_labels, predicted_probs)"
      ],
      "metadata": {
        "colab": {
          "base_uri": "https://localhost:8080/"
        },
        "id": "xu2ZegdRJVmq",
        "outputId": "5ca45478-77a5-4955-d6be-d28b43b7b10c"
      },
      "execution_count": null,
      "outputs": [
        {
          "output_type": "stream",
          "name": "stdout",
          "text": [
            "AUPRC score:  [0.9036144578313253, 0.9016081102935231, 0.9505715168365771, 0.9395779426139957, 0.8909090909090909]\n"
          ]
        }
      ]
    },
    {
      "cell_type": "code",
      "source": [
        "# MCC score\n",
        "from sklearn.metrics import matthews_corrcoef\n",
        "\n",
        "accuracy_history=[]\n",
        "for train_index, test_index in kf.split(x_data):\n",
        "  x_train,x_test= x_data[train_index], x_data[test_index]\n",
        "  y_train,y_test= t_data[train_index], t_data[test_index]\n",
        "  # 모델선택\n",
        "  model= SGDClassifier(loss='log',max_iter=5000,tol=1e-5,random_state=32190403)\n",
        "  model.fit(x_train,y_train)\n",
        "  y_pred=model.predict(x_test)\n",
        "  # pred_proba =model.predict_proba(x_test)[:, 1]\n",
        "  accuracy_history.append(matthews_corrcoef(y_pred,y_test))\n",
        "\n",
        "print('MCC score: ',accuracy_history)\n",
        "\n"
      ],
      "metadata": {
        "colab": {
          "base_uri": "https://localhost:8080/"
        },
        "id": "kpE08QdkKW5a",
        "outputId": "39c23569-776c-454e-dc95-e5851d987979"
      },
      "execution_count": null,
      "outputs": [
        {
          "output_type": "stream",
          "name": "stdout",
          "text": [
            "MCC score:  [0.0, 0.04299150508118947, 0.11404524257567013, 0.002531913339396363, 0.0]\n"
          ]
        }
      ]
    },
    {
      "cell_type": "code",
      "execution_count": null,
      "metadata": {
        "id": "5V-LkacqOkg0"
      },
      "outputs": [],
      "source": []
    },
    {
      "cell_type": "code",
      "source": [
        "# mice결측치 대체\n",
        "x_data2= dataset.drop(['Drug','Label'],axis='columns')\n",
        "x_data2= x_data2.iloc[:,:-1]\n",
        "\n",
        "t_data2=dataset['Label']"
      ],
      "metadata": {
        "id": "hhNBavmySYP3"
      },
      "execution_count": null,
      "outputs": []
    },
    {
      "cell_type": "code",
      "source": [
        "from sklearn.experimental import enable_iterative_imputer\n",
        "from sklearn.impute import IterativeImputer\n",
        "\n",
        "imputer =IterativeImputer(imputation_order='ascending',max_iter=10,random_state=32190403)\n",
        "imputer.fit_transform(x_data2)"
      ],
      "metadata": {
        "colab": {
          "base_uri": "https://localhost:8080/"
        },
        "id": "WB74QaOoP_3O",
        "outputId": "f0c6f44c-3590-40d1-ec18-7d5fe52b10a3"
      },
      "execution_count": null,
      "outputs": [
        {
          "output_type": "execute_result",
          "data": {
            "text/plain": [
              "array([[ 3.49240565e+02,  3.96529291e+00,  1.00000000e+00, ...,\n",
              "         7.80651987e-01,  8.09155345e-01,  3.77117366e-01],\n",
              "       [ 3.36204907e+02,  1.53468157e+00,  3.00000000e+00, ...,\n",
              "         2.25121188e+00,  3.50074148e+00,  2.73541093e+00],\n",
              "       [ 3.53089937e+02,  2.68469155e+00,  1.00000000e+00, ...,\n",
              "         4.78249341e-01,  5.00221908e-01,  4.92640465e-01],\n",
              "       ...,\n",
              "       [ 2.71996324e+02, -3.85110856e+00,  5.00000000e+00, ...,\n",
              "         1.00000000e+01,  1.00000000e+01,  1.00000000e+01],\n",
              "       [ 3.07168462e+02,  3.01762682e+00,  0.00000000e+00, ...,\n",
              "         9.54691470e-02,  1.33876994e-01,  2.66288847e-01],\n",
              "       [ 3.88105066e+02,  8.06543033e-01,  0.00000000e+00, ...,\n",
              "         1.00000000e+01,  1.00000000e+01,  1.00000000e+01]])"
            ]
          },
          "metadata": {},
          "execution_count": 36
        }
      ]
    },
    {
      "cell_type": "code",
      "source": [
        "x_data2 = pd.DataFrame(x_data2)\n",
        "x_data2.isnull().sum()"
      ],
      "metadata": {
        "colab": {
          "base_uri": "https://localhost:8080/"
        },
        "id": "c4MgM4lnQku8",
        "outputId": "b059f978-e099-4cf9-ee07-634a7ba1e029"
      },
      "execution_count": null,
      "outputs": [
        {
          "output_type": "execute_result",
          "data": {
            "text/plain": [
              "0     0\n",
              "1     0\n",
              "2     0\n",
              "3     0\n",
              "4     0\n",
              "5     0\n",
              "6     0\n",
              "7     0\n",
              "8     0\n",
              "9     0\n",
              "10    0\n",
              "11    0\n",
              "12    0\n",
              "13    0\n",
              "14    0\n",
              "15    0\n",
              "16    0\n",
              "17    0\n",
              "18    0\n",
              "19    0\n",
              "20    0\n",
              "21    0\n",
              "22    0\n",
              "23    0\n",
              "24    0\n",
              "25    0\n",
              "26    0\n",
              "27    0\n",
              "28    0\n",
              "29    0\n",
              "30    0\n",
              "31    0\n",
              "32    0\n",
              "33    0\n",
              "34    0\n",
              "35    0\n",
              "36    0\n",
              "37    0\n",
              "38    0\n",
              "39    0\n",
              "40    0\n",
              "41    0\n",
              "42    0\n",
              "43    0\n",
              "44    0\n",
              "45    0\n",
              "dtype: int64"
            ]
          },
          "metadata": {},
          "execution_count": 37
        }
      ]
    },
    {
      "cell_type": "code",
      "source": [
        "x_data2= np.array(x_data2)"
      ],
      "metadata": {
        "id": "I-eej_nCUuA-"
      },
      "execution_count": null,
      "outputs": []
    },
    {
      "cell_type": "code",
      "source": [
        "# 5-fold cross validation\n",
        "\n",
        "from sklearn.model_selection import KFold\n",
        "from sklearn.metrics import accuracy_score\n",
        "\n",
        "kf= KFold(n_splits=5, shuffle=True, random_state= 32190403)\n",
        "for train_index2, test_index2 in kf.split(x_data2):\n",
        "  x_train2, x_test2 = x_data2[train_index2], x_data2[test_index2]\n",
        "  y_train2, y_test2 = t_data2[train_index2], t_data2[test_index2]"
      ],
      "metadata": {
        "id": "qMD-3HEfUI1J"
      },
      "execution_count": null,
      "outputs": []
    },
    {
      "cell_type": "code",
      "source": [
        "# accuracy 2\n",
        "accuracy_history2=[]\n",
        "for train_index2, test_index2 in kf.split(x_data2):\n",
        "  x_train2,x_test2= x_data2[train_index2], x_data2[test_index2]\n",
        "  y_train2,y_test2= t_data2[train_index2], t_data2[test_index2]\n",
        "  # 모델선택\n",
        "  model= SGDClassifier(loss='log',max_iter=5000,tol=1e-5,random_state=32190403)\n",
        "  model.fit(x_train2,y_train2)\n",
        "\n",
        "  y_pred2=model.predict(x_test2)\n",
        "  accuracy_history2.append(accuracy_score(y_pred2,y_test2))\n",
        "\n",
        "print(\"각 분할의 정확도 기록: \",accuracy_history2)\n",
        "print(\"평균 정확도: \",np.mean(accuracy_history2))"
      ],
      "metadata": {
        "colab": {
          "base_uri": "https://localhost:8080/"
        },
        "id": "ziK6JROYSxUP",
        "outputId": "6766ca8f-bca8-4db3-ae24-ed5b5600baea"
      },
      "execution_count": null,
      "outputs": [
        {
          "output_type": "stream",
          "name": "stdout",
          "text": [
            "각 분할의 정확도 기록:  [0.9036144578313253, 0.18674698795180722, 0.2289156626506024, 0.15151515151515152, 0.8909090909090909]\n",
            "평균 정확도:  0.47234027017159547\n"
          ]
        }
      ]
    },
    {
      "cell_type": "code",
      "source": [
        "# f1 score 2\n",
        "from sklearn.metrics import f1_score\n",
        "accuracy_history2=[]\n",
        "for train_index2, test_index2 in kf.split(x_data2):\n",
        "  x_train2,x_test2= x_data2[train_index2], x_data2[test_index2]\n",
        "  y_train2,y_test2= t_data2[train_index2], t_data2[test_index2]\n",
        "  # 모델선택\n",
        "  model= SGDClassifier(loss='log',max_iter=5000,tol=1e-5,random_state=32190403)\n",
        "  model.fit(x_train2,y_train2)\n",
        "  y_pred2=model.predict(x_test2)\n",
        "  accuracy_history2.append(f1_score(y_pred2,y_test2, pos_label='passed'))\n",
        "\n",
        "print(\"각 분할의 f1 기록: \",accuracy_history2)\n",
        "print(\"평균 f1: \",np.mean(accuracy_history2))\n"
      ],
      "metadata": {
        "colab": {
          "base_uri": "https://localhost:8080/"
        },
        "id": "gJ-bu_CuVKjc",
        "outputId": "841bb128-7530-4bb2-8870-741ea3a39599"
      },
      "execution_count": null,
      "outputs": [
        {
          "output_type": "stream",
          "name": "stdout",
          "text": [
            "각 분할의 f1 기록:  [0.9493670886075949, 0.18181818181818182, 0.30434782608695654, 0.18604651162790697, 0.9423076923076923]\n",
            "평균 f1:  0.5127774600896664\n"
          ]
        }
      ]
    },
    {
      "cell_type": "code",
      "source": [
        "# AUC score 2\n",
        "from sklearn.metrics import roc_auc_score\n",
        "accuracy_history2=[]\n",
        "for train_index2, test_index2 in kf.split(x_data2):\n",
        "  x_train2,x_test2= x_data2[train_index2], x_data2[test_index2]\n",
        "  y_train2,y_test2= t_data2[train_index2], t_data2[test_index2]\n",
        "  # 모델선택\n",
        "  model= SGDClassifier(loss='log',max_iter=5000,tol=1e-5,random_state=32190403)\n",
        "  model.fit(x_train2,y_train2)\n",
        "  y_pred2=model.predict(x_test2)\n",
        "  pred_proba2 =model.predict_proba(x_test2)[:, 1]\n",
        "  accuracy_history2.append(roc_auc_score(y_test2,pred_proba2))\n",
        "\n",
        "print('ROC AUC Score: ',accuracy_history2,)\n"
      ],
      "metadata": {
        "colab": {
          "base_uri": "https://localhost:8080/"
        },
        "id": "TEnAopTfWVtC",
        "outputId": "ec6d36b7-1d95-43fa-f104-e7a2beb1ebf3"
      },
      "execution_count": null,
      "outputs": [
        {
          "output_type": "stream",
          "name": "stdout",
          "text": [
            "ROC AUC Score:  [0.5, 0.5209238057639163, 0.5897435897435898, 0.5016129032258064, 0.5]\n"
          ]
        }
      ]
    },
    {
      "cell_type": "code",
      "source": [
        "# AUPRC score 2\n",
        "import sklearn.metrics\n",
        "accuracy_history2=[]\n",
        "for train_index2, test_index2 in kf.split(x_data2):\n",
        "  x_train2,x_test2= x_data2[train_index2], x_data2[test_index2]\n",
        "  y_train2,y_test2= t_data2[train_index2], t_data2[test_index2]\n",
        "  # 모델선택\n",
        "  model= SGDClassifier(loss='log',max_iter=5000,tol=1e-5,random_state=32190403)\n",
        "  model.fit(x_train2,y_train2)\n",
        "  y_pred2=model.predict(x_test2)\n",
        "  pred_proba2 =model.predict_proba(x_test2)[:, 1]\n",
        "  accuracy_history2.append(sklearn.metrics.average_precision_score(y_test2,pred_proba2,pos_label='passed'))\n",
        "\n",
        "print('AUPRC score: ',accuracy_history2,)\n",
        "\n"
      ],
      "metadata": {
        "colab": {
          "base_uri": "https://localhost:8080/"
        },
        "id": "kttiJL6_XDjo",
        "outputId": "3c79a20a-7270-4b2b-b97d-b2dcc5f500c7"
      },
      "execution_count": null,
      "outputs": [
        {
          "output_type": "stream",
          "name": "stdout",
          "text": [
            "AUPRC score:  [0.9036144578313253, 0.9016081102935231, 0.9505715168365771, 0.9395779426139957, 0.8909090909090909]\n"
          ]
        }
      ]
    },
    {
      "cell_type": "code",
      "source": [
        "# MCC score 2\n",
        "from sklearn.metrics import matthews_corrcoef\n",
        "\n",
        "accuracy_history2=[]\n",
        "for train_index2, test_index2 in kf.split(x_data2):\n",
        "  x_train2,x_test2= x_data2[train_index2], x_data2[test_index2]\n",
        "  y_train2,y_test2= t_data2[train_index2], t_data2[test_index2]\n",
        "  # 모델선택\n",
        "  model= SGDClassifier(loss='log',max_iter=5000,tol=1e-5,random_state=32190403)\n",
        "  model.fit(x_train2,y_train2)\n",
        "  y_pred2=model.predict(x_test2)\n",
        "\n",
        "  accuracy_history2.append(matthews_corrcoef(y_pred2,y_test2))\n",
        "\n",
        "print('MCC score: ',accuracy_history2)\n"
      ],
      "metadata": {
        "colab": {
          "base_uri": "https://localhost:8080/"
        },
        "id": "tzgLqwfTXlOK",
        "outputId": "788bb0c8-d7c0-4ebe-efb9-bd59897f8c31"
      },
      "execution_count": null,
      "outputs": [
        {
          "output_type": "stream",
          "name": "stdout",
          "text": [
            "MCC score:  [0.0, 0.04299150508118947, 0.11404524257567013, 0.002531913339396363, 0.0]\n"
          ]
        }
      ]
    }
  ],
  "metadata": {
    "colab": {
      "provenance": []
    },
    "kernelspec": {
      "display_name": "Python 3",
      "name": "python3"
    },
    "language_info": {
      "name": "python"
    }
  },
  "nbformat": 4,
  "nbformat_minor": 0
}